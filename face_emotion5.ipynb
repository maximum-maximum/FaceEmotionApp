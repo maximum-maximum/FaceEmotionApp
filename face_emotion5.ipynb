{
 "cells": [
  {
   "cell_type": "markdown",
   "metadata": {},
   "source": [
    "# 1. Introduction"
   ]
  },
  {
   "cell_type": "markdown",
   "metadata": {},
   "source": [
    "本タスクは，顔の表情に示された感情に基づいて，各顔を以下の7つのカテゴリのいずれかに分類することです．データは，48×48ピクセルのグレースケールの顔画像で構成されています．これらの顔は全て中央に位置し，各画像内でほぼ同じスペースを占めるように登録されています．データは\n",
    "[こちら](https://www.kaggle.com/c/challenges-in-representation-learning-facial-expression-recognition-challenge/data) から．"
   ]
  },
  {
   "cell_type": "markdown",
   "metadata": {},
   "source": [
    "|  category  |  emotion  |\n",
    "| :----: | :----: |\n",
    "|  0  |  Angry  |\n",
    "|  1  |  Disgust  |\n",
    "|  2  |  Fear  |\n",
    "|  3  |  Happy  |\n",
    "|  4  |  Sad  |\n",
    "|  5  |  Surprise  |\n",
    "|  6  |  Neutral  |"
   ]
  },
  {
   "cell_type": "markdown",
   "metadata": {},
   "source": [
    "# 2. Libraries"
   ]
  },
  {
   "cell_type": "markdown",
   "metadata": {},
   "source": [
    "必要なライブラリをインポートします．"
   ]
  },
  {
   "cell_type": "code",
   "execution_count": 34,
   "metadata": {},
   "outputs": [],
   "source": [
    "import numpy as np\n",
    "import pandas as pd\n",
    "import matplotlib.pyplot as plt\n",
    "%matplotlib inline\n",
    "from PIL import Image\n",
    "\n",
    "import tensorflow as tf\n",
    "from tensorflow import keras\n",
    "from tensorflow.keras.utils import to_categorical\n",
    "from sklearn.model_selection import train_test_split"
   ]
  },
  {
   "cell_type": "code",
   "execution_count": 35,
   "metadata": {},
   "outputs": [],
   "source": [
    "import os\n",
    "# os.environ['KMP_DUPLICATE_LIB_OK']='TRUE'"
   ]
  },
  {
   "cell_type": "markdown",
   "metadata": {},
   "source": [
    "# 3. Load & Overview"
   ]
  },
  {
   "cell_type": "markdown",
   "metadata": {},
   "source": [
    "データをデータフレームに落とし込み，応答変数の分布を確認します．"
   ]
  },
  {
   "cell_type": "code",
   "execution_count": 36,
   "metadata": {},
   "outputs": [
    {
     "data": {
      "text/html": [
       "<div>\n",
       "<style scoped>\n",
       "    .dataframe tbody tr th:only-of-type {\n",
       "        vertical-align: middle;\n",
       "    }\n",
       "\n",
       "    .dataframe tbody tr th {\n",
       "        vertical-align: top;\n",
       "    }\n",
       "\n",
       "    .dataframe thead th {\n",
       "        text-align: right;\n",
       "    }\n",
       "</style>\n",
       "<table border=\"1\" class=\"dataframe\">\n",
       "  <thead>\n",
       "    <tr style=\"text-align: right;\">\n",
       "      <th></th>\n",
       "      <th>emotion</th>\n",
       "      <th>pixels</th>\n",
       "    </tr>\n",
       "  </thead>\n",
       "  <tbody>\n",
       "    <tr>\n",
       "      <td>0</td>\n",
       "      <td>0</td>\n",
       "      <td>70 80 82 72 58 58 60 63 54 58 60 48 89 115 121...</td>\n",
       "    </tr>\n",
       "    <tr>\n",
       "      <td>1</td>\n",
       "      <td>0</td>\n",
       "      <td>151 150 147 155 148 133 111 140 170 174 182 15...</td>\n",
       "    </tr>\n",
       "    <tr>\n",
       "      <td>2</td>\n",
       "      <td>2</td>\n",
       "      <td>231 212 156 164 174 138 161 173 182 200 106 38...</td>\n",
       "    </tr>\n",
       "    <tr>\n",
       "      <td>3</td>\n",
       "      <td>4</td>\n",
       "      <td>24 32 36 30 32 23 19 20 30 41 21 22 32 34 21 1...</td>\n",
       "    </tr>\n",
       "    <tr>\n",
       "      <td>4</td>\n",
       "      <td>6</td>\n",
       "      <td>4 0 0 0 0 0 0 0 0 0 0 0 3 15 23 28 48 50 58 84...</td>\n",
       "    </tr>\n",
       "    <tr>\n",
       "      <td>...</td>\n",
       "      <td>...</td>\n",
       "      <td>...</td>\n",
       "    </tr>\n",
       "    <tr>\n",
       "      <td>28704</td>\n",
       "      <td>2</td>\n",
       "      <td>84 85 85 85 85 85 85 85 86 86 86 87 86 86 91 9...</td>\n",
       "    </tr>\n",
       "    <tr>\n",
       "      <td>28705</td>\n",
       "      <td>0</td>\n",
       "      <td>114 112 113 113 111 111 112 113 115 113 114 11...</td>\n",
       "    </tr>\n",
       "    <tr>\n",
       "      <td>28706</td>\n",
       "      <td>4</td>\n",
       "      <td>74 81 87 89 95 100 98 93 105 120 127 133 146 1...</td>\n",
       "    </tr>\n",
       "    <tr>\n",
       "      <td>28707</td>\n",
       "      <td>0</td>\n",
       "      <td>222 227 203 90 86 90 84 77 94 87 99 119 134 14...</td>\n",
       "    </tr>\n",
       "    <tr>\n",
       "      <td>28708</td>\n",
       "      <td>4</td>\n",
       "      <td>195 199 205 206 205 203 206 209 208 210 212 21...</td>\n",
       "    </tr>\n",
       "  </tbody>\n",
       "</table>\n",
       "<p>28709 rows × 2 columns</p>\n",
       "</div>"
      ],
      "text/plain": [
       "       emotion                                             pixels\n",
       "0            0  70 80 82 72 58 58 60 63 54 58 60 48 89 115 121...\n",
       "1            0  151 150 147 155 148 133 111 140 170 174 182 15...\n",
       "2            2  231 212 156 164 174 138 161 173 182 200 106 38...\n",
       "3            4  24 32 36 30 32 23 19 20 30 41 21 22 32 34 21 1...\n",
       "4            6  4 0 0 0 0 0 0 0 0 0 0 0 3 15 23 28 48 50 58 84...\n",
       "...        ...                                                ...\n",
       "28704        2  84 85 85 85 85 85 85 85 86 86 86 87 86 86 91 9...\n",
       "28705        0  114 112 113 113 111 111 112 113 115 113 114 11...\n",
       "28706        4  74 81 87 89 95 100 98 93 105 120 127 133 146 1...\n",
       "28707        0  222 227 203 90 86 90 84 77 94 87 99 119 134 14...\n",
       "28708        4  195 199 205 206 205 203 206 209 208 210 212 21...\n",
       "\n",
       "[28709 rows x 2 columns]"
      ]
     },
     "execution_count": 36,
     "metadata": {},
     "output_type": "execute_result"
    }
   ],
   "source": [
    "path = './challenges-in-representation-learning-facial-expression-recognition-challenge/train.csv'\n",
    "df = pd.read_csv(path, na_filter=False)\n",
    "df"
   ]
  },
  {
   "cell_type": "code",
   "execution_count": 37,
   "metadata": {},
   "outputs": [],
   "source": [
    "emotions = ['Angry', 'Disgust', 'Fear', 'Happy', 'Sad', 'Surprise', 'Neutral']"
   ]
  },
  {
   "cell_type": "code",
   "execution_count": 38,
   "metadata": {},
   "outputs": [
    {
     "data": {
      "text/plain": [
       "Angry       3995\n",
       "Disgust      436\n",
       "Fear        4097\n",
       "Happy       7215\n",
       "Sad         4830\n",
       "Surprise    3171\n",
       "Neutral     4965\n",
       "Name: emotion, dtype: int64"
      ]
     },
     "execution_count": 38,
     "metadata": {},
     "output_type": "execute_result"
    }
   ],
   "source": [
    "df['emotion'].value_counts(sort=False).rename(index=dict(zip(list(range(7)), emotions)))"
   ]
  },
  {
   "cell_type": "code",
   "execution_count": 39,
   "metadata": {},
   "outputs": [
    {
     "data": {
      "text/plain": [
       "<matplotlib.axes._subplots.AxesSubplot at 0x7faab8121f50>"
      ]
     },
     "execution_count": 39,
     "metadata": {},
     "output_type": "execute_result"
    },
    {
     "data": {
      "image/png": "[encoded data removed]",
      "text/plain": [
       "<Figure size 432x288 with 1 Axes>"
      ]
     },
     "metadata": {
      "needs_background": "light"
     },
     "output_type": "display_data"
    }
   ],
   "source": [
    "df['emotion'].value_counts(sort=False).rename(index=dict(zip(list(range(7)), emotions))).plot(kind='bar')"
   ]
  },
  {
   "cell_type": "code",
   "execution_count": 40,
   "metadata": {},
   "outputs": [],
   "source": [
    "df = df[df['emotion']!=1]"
   ]
  },
  {
   "cell_type": "code",
   "execution_count": 41,
   "metadata": {},
   "outputs": [
    {
     "data": {
      "text/html": [
       "<div>\n",
       "<style scoped>\n",
       "    .dataframe tbody tr th:only-of-type {\n",
       "        vertical-align: middle;\n",
       "    }\n",
       "\n",
       "    .dataframe tbody tr th {\n",
       "        vertical-align: top;\n",
       "    }\n",
       "\n",
       "    .dataframe thead th {\n",
       "        text-align: right;\n",
       "    }\n",
       "</style>\n",
       "<table border=\"1\" class=\"dataframe\">\n",
       "  <thead>\n",
       "    <tr style=\"text-align: right;\">\n",
       "      <th></th>\n",
       "      <th>emotion</th>\n",
       "      <th>pixels</th>\n",
       "    </tr>\n",
       "  </thead>\n",
       "  <tbody>\n",
       "    <tr>\n",
       "      <td>0</td>\n",
       "      <td>0</td>\n",
       "      <td>70 80 82 72 58 58 60 63 54 58 60 48 89 115 121...</td>\n",
       "    </tr>\n",
       "    <tr>\n",
       "      <td>1</td>\n",
       "      <td>0</td>\n",
       "      <td>151 150 147 155 148 133 111 140 170 174 182 15...</td>\n",
       "    </tr>\n",
       "    <tr>\n",
       "      <td>2</td>\n",
       "      <td>2</td>\n",
       "      <td>231 212 156 164 174 138 161 173 182 200 106 38...</td>\n",
       "    </tr>\n",
       "    <tr>\n",
       "      <td>3</td>\n",
       "      <td>4</td>\n",
       "      <td>24 32 36 30 32 23 19 20 30 41 21 22 32 34 21 1...</td>\n",
       "    </tr>\n",
       "    <tr>\n",
       "      <td>4</td>\n",
       "      <td>6</td>\n",
       "      <td>4 0 0 0 0 0 0 0 0 0 0 0 3 15 23 28 48 50 58 84...</td>\n",
       "    </tr>\n",
       "    <tr>\n",
       "      <td>...</td>\n",
       "      <td>...</td>\n",
       "      <td>...</td>\n",
       "    </tr>\n",
       "    <tr>\n",
       "      <td>28704</td>\n",
       "      <td>2</td>\n",
       "      <td>84 85 85 85 85 85 85 85 86 86 86 87 86 86 91 9...</td>\n",
       "    </tr>\n",
       "    <tr>\n",
       "      <td>28705</td>\n",
       "      <td>0</td>\n",
       "      <td>114 112 113 113 111 111 112 113 115 113 114 11...</td>\n",
       "    </tr>\n",
       "    <tr>\n",
       "      <td>28706</td>\n",
       "      <td>4</td>\n",
       "      <td>74 81 87 89 95 100 98 93 105 120 127 133 146 1...</td>\n",
       "    </tr>\n",
       "    <tr>\n",
       "      <td>28707</td>\n",
       "      <td>0</td>\n",
       "      <td>222 227 203 90 86 90 84 77 94 87 99 119 134 14...</td>\n",
       "    </tr>\n",
       "    <tr>\n",
       "      <td>28708</td>\n",
       "      <td>4</td>\n",
       "      <td>195 199 205 206 205 203 206 209 208 210 212 21...</td>\n",
       "    </tr>\n",
       "  </tbody>\n",
       "</table>\n",
       "<p>28273 rows × 2 columns</p>\n",
       "</div>"
      ],
      "text/plain": [
       "       emotion                                             pixels\n",
       "0            0  70 80 82 72 58 58 60 63 54 58 60 48 89 115 121...\n",
       "1            0  151 150 147 155 148 133 111 140 170 174 182 15...\n",
       "2            2  231 212 156 164 174 138 161 173 182 200 106 38...\n",
       "3            4  24 32 36 30 32 23 19 20 30 41 21 22 32 34 21 1...\n",
       "4            6  4 0 0 0 0 0 0 0 0 0 0 0 3 15 23 28 48 50 58 84...\n",
       "...        ...                                                ...\n",
       "28704        2  84 85 85 85 85 85 85 85 86 86 86 87 86 86 91 9...\n",
       "28705        0  114 112 113 113 111 111 112 113 115 113 114 11...\n",
       "28706        4  74 81 87 89 95 100 98 93 105 120 127 133 146 1...\n",
       "28707        0  222 227 203 90 86 90 84 77 94 87 99 119 134 14...\n",
       "28708        4  195 199 205 206 205 203 206 209 208 210 212 21...\n",
       "\n",
       "[28273 rows x 2 columns]"
      ]
     },
     "execution_count": 41,
     "metadata": {},
     "output_type": "execute_result"
    }
   ],
   "source": [
    "df"
   ]
  },
  {
   "cell_type": "code",
   "execution_count": 42,
   "metadata": {},
   "outputs": [
    {
     "data": {
      "text/plain": [
       "Angry       3995\n",
       "Fear        4097\n",
       "Happy       7215\n",
       "Sad         4830\n",
       "Surprise    3171\n",
       "Neutral     4965\n",
       "Name: emotion, dtype: int64"
      ]
     },
     "execution_count": 42,
     "metadata": {},
     "output_type": "execute_result"
    }
   ],
   "source": [
    "df['emotion'].value_counts(sort=False).rename(index=dict(zip(list(range(7)), emotions)))"
   ]
  },
  {
   "cell_type": "markdown",
   "metadata": {},
   "source": [
    "# 4. Functions"
   ]
  },
  {
   "cell_type": "markdown",
   "metadata": {},
   "source": [
    "サンプル表示，学習データ成形に必要な関数を定義します．"
   ]
  },
  {
   "cell_type": "code",
   "execution_count": 43,
   "metadata": {},
   "outputs": [],
   "source": [
    "def prepare_df(df):\n",
    "    img_array = np.zeros(shape=(len(df), 48, 48))\n",
    "    img_label = np.array(list(map(int, df['emotion'])))\n",
    "    for i, row in enumerate(df.index):\n",
    "        image = np.fromstring(df.loc[row, 'pixels'], dtype=int, sep=' ')\n",
    "        image = np.reshape(image, (48, 48))\n",
    "        img_array[i] = image\n",
    "        \n",
    "    return img_array, img_label\n",
    "\n",
    "def plot_examples(label=0):\n",
    "    fig, ax = plt.subplots(1, 5, figsize=(25, 12))\n",
    "    fig.subplots_adjust(hspace = .2, wspace=.2)\n",
    "    ax = ax.ravel()\n",
    "    for i in range(5):\n",
    "        idx = df[df['emotion']==label].index[i]\n",
    "        ax[i].imshow(images[idx][:,:,0], cmap='gray')\n",
    "        ax[i].set_title(emotions[labels[idx].argmax()])\n",
    "        ax[i].set_xticklabels([])\n",
    "        ax[i].set_yticklabels([])"
   ]
  },
  {
   "cell_type": "code",
   "execution_count": 44,
   "metadata": {},
   "outputs": [],
   "source": [
    "img_array, img_label = prepare_df(df)\n",
    "images = img_array.reshape((img_array.shape[0], 48, 48, 1)).astype('float32')/255\n",
    "labels = to_categorical(img_label)"
   ]
  },
  {
   "cell_type": "code",
   "execution_count": 45,
   "metadata": {},
   "outputs": [],
   "source": [
    "def gray_to_rgb(img):\n",
    "  w, h = img.shape\n",
    "  ret = np.empty((w, h, 3), dtype=np.uint8)\n",
    "  ret[:, :, 2] = ret[:, :, 1] = ret[:, :, 0] = img\n",
    "  return ret\n",
    "\n",
    "def convert_to_image(pixels, mode='save', t='gray'):\n",
    "  if type(pixels) == str:\n",
    "      pixels = np.array([int(i) for i in pixels.split()])\n",
    "  if mode == 'show':\n",
    "    if t == 'gray':\n",
    "      return pixels.reshape(48, 48)\n",
    "    else:\n",
    "      return gray_to_rgb(pixels.reshape(48, 48))\n",
    "  else:\n",
    "      return pixels"
   ]
  },
  {
   "cell_type": "code",
   "execution_count": 46,
   "metadata": {},
   "outputs": [
    {
     "data": {
      "text/html": [
       "<div>\n",
       "<style scoped>\n",
       "    .dataframe tbody tr th:only-of-type {\n",
       "        vertical-align: middle;\n",
       "    }\n",
       "\n",
       "    .dataframe tbody tr th {\n",
       "        vertical-align: top;\n",
       "    }\n",
       "\n",
       "    .dataframe thead th {\n",
       "        text-align: right;\n",
       "    }\n",
       "</style>\n",
       "<table border=\"1\" class=\"dataframe\">\n",
       "  <thead>\n",
       "    <tr style=\"text-align: right;\">\n",
       "      <th></th>\n",
       "      <th>emotion</th>\n",
       "      <th>pixels</th>\n",
       "    </tr>\n",
       "  </thead>\n",
       "  <tbody>\n",
       "    <tr>\n",
       "      <td>0</td>\n",
       "      <td>0</td>\n",
       "      <td>70 80 82 72 58 58 60 63 54 58 60 48 89 115 121...</td>\n",
       "    </tr>\n",
       "    <tr>\n",
       "      <td>1</td>\n",
       "      <td>0</td>\n",
       "      <td>151 150 147 155 148 133 111 140 170 174 182 15...</td>\n",
       "    </tr>\n",
       "    <tr>\n",
       "      <td>2</td>\n",
       "      <td>2</td>\n",
       "      <td>231 212 156 164 174 138 161 173 182 200 106 38...</td>\n",
       "    </tr>\n",
       "    <tr>\n",
       "      <td>3</td>\n",
       "      <td>4</td>\n",
       "      <td>24 32 36 30 32 23 19 20 30 41 21 22 32 34 21 1...</td>\n",
       "    </tr>\n",
       "    <tr>\n",
       "      <td>4</td>\n",
       "      <td>6</td>\n",
       "      <td>4 0 0 0 0 0 0 0 0 0 0 0 3 15 23 28 48 50 58 84...</td>\n",
       "    </tr>\n",
       "    <tr>\n",
       "      <td>...</td>\n",
       "      <td>...</td>\n",
       "      <td>...</td>\n",
       "    </tr>\n",
       "    <tr>\n",
       "      <td>28704</td>\n",
       "      <td>2</td>\n",
       "      <td>84 85 85 85 85 85 85 85 86 86 86 87 86 86 91 9...</td>\n",
       "    </tr>\n",
       "    <tr>\n",
       "      <td>28705</td>\n",
       "      <td>0</td>\n",
       "      <td>114 112 113 113 111 111 112 113 115 113 114 11...</td>\n",
       "    </tr>\n",
       "    <tr>\n",
       "      <td>28706</td>\n",
       "      <td>4</td>\n",
       "      <td>74 81 87 89 95 100 98 93 105 120 127 133 146 1...</td>\n",
       "    </tr>\n",
       "    <tr>\n",
       "      <td>28707</td>\n",
       "      <td>0</td>\n",
       "      <td>222 227 203 90 86 90 84 77 94 87 99 119 134 14...</td>\n",
       "    </tr>\n",
       "    <tr>\n",
       "      <td>28708</td>\n",
       "      <td>4</td>\n",
       "      <td>195 199 205 206 205 203 206 209 208 210 212 21...</td>\n",
       "    </tr>\n",
       "  </tbody>\n",
       "</table>\n",
       "<p>28273 rows × 2 columns</p>\n",
       "</div>"
      ],
      "text/plain": [
       "       emotion                                             pixels\n",
       "0            0  70 80 82 72 58 58 60 63 54 58 60 48 89 115 121...\n",
       "1            0  151 150 147 155 148 133 111 140 170 174 182 15...\n",
       "2            2  231 212 156 164 174 138 161 173 182 200 106 38...\n",
       "3            4  24 32 36 30 32 23 19 20 30 41 21 22 32 34 21 1...\n",
       "4            6  4 0 0 0 0 0 0 0 0 0 0 0 3 15 23 28 48 50 58 84...\n",
       "...        ...                                                ...\n",
       "28704        2  84 85 85 85 85 85 85 85 86 86 86 87 86 86 91 9...\n",
       "28705        0  114 112 113 113 111 111 112 113 115 113 114 11...\n",
       "28706        4  74 81 87 89 95 100 98 93 105 120 127 133 146 1...\n",
       "28707        0  222 227 203 90 86 90 84 77 94 87 99 119 134 14...\n",
       "28708        4  195 199 205 206 205 203 206 209 208 210 212 21...\n",
       "\n",
       "[28273 rows x 2 columns]"
      ]
     },
     "execution_count": 46,
     "metadata": {},
     "output_type": "execute_result"
    }
   ],
   "source": [
    "df"
   ]
  },
  {
   "cell_type": "code",
   "execution_count": 47,
   "metadata": {},
   "outputs": [
    {
     "data": {
      "text/html": [
       "<div>\n",
       "<style scoped>\n",
       "    .dataframe tbody tr th:only-of-type {\n",
       "        vertical-align: middle;\n",
       "    }\n",
       "\n",
       "    .dataframe tbody tr th {\n",
       "        vertical-align: top;\n",
       "    }\n",
       "\n",
       "    .dataframe thead th {\n",
       "        text-align: right;\n",
       "    }\n",
       "</style>\n",
       "<table border=\"1\" class=\"dataframe\">\n",
       "  <thead>\n",
       "    <tr style=\"text-align: right;\">\n",
       "      <th></th>\n",
       "      <th>emotion</th>\n",
       "      <th>pixels</th>\n",
       "    </tr>\n",
       "  </thead>\n",
       "  <tbody>\n",
       "    <tr>\n",
       "      <td>0</td>\n",
       "      <td>0</td>\n",
       "      <td>[[70, 80, 82, 72, 58, 58, 60, 63, 54, 58, 60, ...</td>\n",
       "    </tr>\n",
       "    <tr>\n",
       "      <td>1</td>\n",
       "      <td>0</td>\n",
       "      <td>[[151, 150, 147, 155, 148, 133, 111, 140, 170,...</td>\n",
       "    </tr>\n",
       "    <tr>\n",
       "      <td>2</td>\n",
       "      <td>2</td>\n",
       "      <td>[[231, 212, 156, 164, 174, 138, 161, 173, 182,...</td>\n",
       "    </tr>\n",
       "    <tr>\n",
       "      <td>3</td>\n",
       "      <td>4</td>\n",
       "      <td>[[24, 32, 36, 30, 32, 23, 19, 20, 30, 41, 21, ...</td>\n",
       "    </tr>\n",
       "    <tr>\n",
       "      <td>4</td>\n",
       "      <td>6</td>\n",
       "      <td>[[4, 0, 0, 0, 0, 0, 0, 0, 0, 0, 0, 0, 3, 15, 2...</td>\n",
       "    </tr>\n",
       "    <tr>\n",
       "      <td>...</td>\n",
       "      <td>...</td>\n",
       "      <td>...</td>\n",
       "    </tr>\n",
       "    <tr>\n",
       "      <td>28704</td>\n",
       "      <td>2</td>\n",
       "      <td>[[84, 85, 85, 85, 85, 85, 85, 85, 86, 86, 86, ...</td>\n",
       "    </tr>\n",
       "    <tr>\n",
       "      <td>28705</td>\n",
       "      <td>0</td>\n",
       "      <td>[[114, 112, 113, 113, 111, 111, 112, 113, 115,...</td>\n",
       "    </tr>\n",
       "    <tr>\n",
       "      <td>28706</td>\n",
       "      <td>4</td>\n",
       "      <td>[[74, 81, 87, 89, 95, 100, 98, 93, 105, 120, 1...</td>\n",
       "    </tr>\n",
       "    <tr>\n",
       "      <td>28707</td>\n",
       "      <td>0</td>\n",
       "      <td>[[222, 227, 203, 90, 86, 90, 84, 77, 94, 87, 9...</td>\n",
       "    </tr>\n",
       "    <tr>\n",
       "      <td>28708</td>\n",
       "      <td>4</td>\n",
       "      <td>[[195, 199, 205, 206, 205, 203, 206, 209, 208,...</td>\n",
       "    </tr>\n",
       "  </tbody>\n",
       "</table>\n",
       "<p>28273 rows × 2 columns</p>\n",
       "</div>"
      ],
      "text/plain": [
       "       emotion                                             pixels\n",
       "0            0  [[70, 80, 82, 72, 58, 58, 60, 63, 54, 58, 60, ...\n",
       "1            0  [[151, 150, 147, 155, 148, 133, 111, 140, 170,...\n",
       "2            2  [[231, 212, 156, 164, 174, 138, 161, 173, 182,...\n",
       "3            4  [[24, 32, 36, 30, 32, 23, 19, 20, 30, 41, 21, ...\n",
       "4            6  [[4, 0, 0, 0, 0, 0, 0, 0, 0, 0, 0, 0, 3, 15, 2...\n",
       "...        ...                                                ...\n",
       "28704        2  [[84, 85, 85, 85, 85, 85, 85, 85, 86, 86, 86, ...\n",
       "28705        0  [[114, 112, 113, 113, 111, 111, 112, 113, 115,...\n",
       "28706        4  [[74, 81, 87, 89, 95, 100, 98, 93, 105, 120, 1...\n",
       "28707        0  [[222, 227, 203, 90, 86, 90, 84, 77, 94, 87, 9...\n",
       "28708        4  [[195, 199, 205, 206, 205, 203, 206, 209, 208,...\n",
       "\n",
       "[28273 rows x 2 columns]"
      ]
     },
     "execution_count": 47,
     "metadata": {},
     "output_type": "execute_result"
    }
   ],
   "source": [
    "df.loc[:, 'pixels'] = df.copy()['pixels'].apply(lambda x : convert_to_image(x, mode='show', t='gray'))\n",
    "df"
   ]
  },
  {
   "cell_type": "code",
   "execution_count": 48,
   "metadata": {},
   "outputs": [],
   "source": [
    "df_dataAug = df.copy()\n",
    "df_dataAug['pixels'] = df_dataAug['pixels'].apply(lambda x: x[:, ::-1])"
   ]
  },
  {
   "cell_type": "code",
   "execution_count": 49,
   "metadata": {},
   "outputs": [
    {
     "data": {
      "text/html": [
       "<div>\n",
       "<style scoped>\n",
       "    .dataframe tbody tr th:only-of-type {\n",
       "        vertical-align: middle;\n",
       "    }\n",
       "\n",
       "    .dataframe tbody tr th {\n",
       "        vertical-align: top;\n",
       "    }\n",
       "\n",
       "    .dataframe thead th {\n",
       "        text-align: right;\n",
       "    }\n",
       "</style>\n",
       "<table border=\"1\" class=\"dataframe\">\n",
       "  <thead>\n",
       "    <tr style=\"text-align: right;\">\n",
       "      <th></th>\n",
       "      <th>emotion</th>\n",
       "      <th>pixels</th>\n",
       "    </tr>\n",
       "  </thead>\n",
       "  <tbody>\n",
       "    <tr>\n",
       "      <td>0</td>\n",
       "      <td>0</td>\n",
       "      <td>[[41, 43, 52, 61, 57, 56, 62, 66, 79, 95, 107,...</td>\n",
       "    </tr>\n",
       "    <tr>\n",
       "      <td>1</td>\n",
       "      <td>0</td>\n",
       "      <td>[[120, 140, 129, 119, 123, 163, 132, 95, 104, ...</td>\n",
       "    </tr>\n",
       "    <tr>\n",
       "      <td>2</td>\n",
       "      <td>2</td>\n",
       "      <td>[[16, 27, 44, 36, 56, 94, 131, 137, 135, 139, ...</td>\n",
       "    </tr>\n",
       "    <tr>\n",
       "      <td>3</td>\n",
       "      <td>4</td>\n",
       "      <td>[[173, 172, 173, 176, 182, 187, 190, 190, 188,...</td>\n",
       "    </tr>\n",
       "    <tr>\n",
       "      <td>4</td>\n",
       "      <td>6</td>\n",
       "      <td>[[25, 24, 27, 25, 5, 7, 17, 21, 38, 48, 58, 83...</td>\n",
       "    </tr>\n",
       "    <tr>\n",
       "      <td>...</td>\n",
       "      <td>...</td>\n",
       "      <td>...</td>\n",
       "    </tr>\n",
       "    <tr>\n",
       "      <td>28704</td>\n",
       "      <td>2</td>\n",
       "      <td>[[87, 86, 86, 85, 85, 85, 84, 85, 85, 85, 85, ...</td>\n",
       "    </tr>\n",
       "    <tr>\n",
       "      <td>28705</td>\n",
       "      <td>0</td>\n",
       "      <td>[[147, 112, 83, 98, 81, 114, 110, 88, 80, 99, ...</td>\n",
       "    </tr>\n",
       "    <tr>\n",
       "      <td>28706</td>\n",
       "      <td>4</td>\n",
       "      <td>[[192, 191, 189, 187, 190, 192, 194, 193, 192,...</td>\n",
       "    </tr>\n",
       "    <tr>\n",
       "      <td>28707</td>\n",
       "      <td>0</td>\n",
       "      <td>[[122, 132, 138, 146, 155, 160, 158, 162, 166,...</td>\n",
       "    </tr>\n",
       "    <tr>\n",
       "      <td>28708</td>\n",
       "      <td>4</td>\n",
       "      <td>[[77, 140, 182, 193, 190, 185, 181, 180, 185, ...</td>\n",
       "    </tr>\n",
       "  </tbody>\n",
       "</table>\n",
       "<p>28273 rows × 2 columns</p>\n",
       "</div>"
      ],
      "text/plain": [
       "       emotion                                             pixels\n",
       "0            0  [[41, 43, 52, 61, 57, 56, 62, 66, 79, 95, 107,...\n",
       "1            0  [[120, 140, 129, 119, 123, 163, 132, 95, 104, ...\n",
       "2            2  [[16, 27, 44, 36, 56, 94, 131, 137, 135, 139, ...\n",
       "3            4  [[173, 172, 173, 176, 182, 187, 190, 190, 188,...\n",
       "4            6  [[25, 24, 27, 25, 5, 7, 17, 21, 38, 48, 58, 83...\n",
       "...        ...                                                ...\n",
       "28704        2  [[87, 86, 86, 85, 85, 85, 84, 85, 85, 85, 85, ...\n",
       "28705        0  [[147, 112, 83, 98, 81, 114, 110, 88, 80, 99, ...\n",
       "28706        4  [[192, 191, 189, 187, 190, 192, 194, 193, 192,...\n",
       "28707        0  [[122, 132, 138, 146, 155, 160, 158, 162, 166,...\n",
       "28708        4  [[77, 140, 182, 193, 190, 185, 181, 180, 185, ...\n",
       "\n",
       "[28273 rows x 2 columns]"
      ]
     },
     "execution_count": 49,
     "metadata": {},
     "output_type": "execute_result"
    }
   ],
   "source": [
    "df_dataAug"
   ]
  },
  {
   "cell_type": "code",
   "execution_count": 50,
   "metadata": {},
   "outputs": [],
   "source": [
    "df = pd.concat([df, df_dataAug])"
   ]
  },
  {
   "cell_type": "code",
   "execution_count": 51,
   "metadata": {},
   "outputs": [
    {
     "data": {
      "text/html": [
       "<div>\n",
       "<style scoped>\n",
       "    .dataframe tbody tr th:only-of-type {\n",
       "        vertical-align: middle;\n",
       "    }\n",
       "\n",
       "    .dataframe tbody tr th {\n",
       "        vertical-align: top;\n",
       "    }\n",
       "\n",
       "    .dataframe thead th {\n",
       "        text-align: right;\n",
       "    }\n",
       "</style>\n",
       "<table border=\"1\" class=\"dataframe\">\n",
       "  <thead>\n",
       "    <tr style=\"text-align: right;\">\n",
       "      <th></th>\n",
       "      <th>emotion</th>\n",
       "      <th>pixels</th>\n",
       "    </tr>\n",
       "  </thead>\n",
       "  <tbody>\n",
       "    <tr>\n",
       "      <td>0</td>\n",
       "      <td>0</td>\n",
       "      <td>[[70, 80, 82, 72, 58, 58, 60, 63, 54, 58, 60, ...</td>\n",
       "    </tr>\n",
       "    <tr>\n",
       "      <td>1</td>\n",
       "      <td>0</td>\n",
       "      <td>[[151, 150, 147, 155, 148, 133, 111, 140, 170,...</td>\n",
       "    </tr>\n",
       "    <tr>\n",
       "      <td>2</td>\n",
       "      <td>2</td>\n",
       "      <td>[[231, 212, 156, 164, 174, 138, 161, 173, 182,...</td>\n",
       "    </tr>\n",
       "    <tr>\n",
       "      <td>3</td>\n",
       "      <td>4</td>\n",
       "      <td>[[24, 32, 36, 30, 32, 23, 19, 20, 30, 41, 21, ...</td>\n",
       "    </tr>\n",
       "    <tr>\n",
       "      <td>4</td>\n",
       "      <td>6</td>\n",
       "      <td>[[4, 0, 0, 0, 0, 0, 0, 0, 0, 0, 0, 0, 3, 15, 2...</td>\n",
       "    </tr>\n",
       "    <tr>\n",
       "      <td>...</td>\n",
       "      <td>...</td>\n",
       "      <td>...</td>\n",
       "    </tr>\n",
       "    <tr>\n",
       "      <td>28704</td>\n",
       "      <td>2</td>\n",
       "      <td>[[87, 86, 86, 85, 85, 85, 84, 85, 85, 85, 85, ...</td>\n",
       "    </tr>\n",
       "    <tr>\n",
       "      <td>28705</td>\n",
       "      <td>0</td>\n",
       "      <td>[[147, 112, 83, 98, 81, 114, 110, 88, 80, 99, ...</td>\n",
       "    </tr>\n",
       "    <tr>\n",
       "      <td>28706</td>\n",
       "      <td>4</td>\n",
       "      <td>[[192, 191, 189, 187, 190, 192, 194, 193, 192,...</td>\n",
       "    </tr>\n",
       "    <tr>\n",
       "      <td>28707</td>\n",
       "      <td>0</td>\n",
       "      <td>[[122, 132, 138, 146, 155, 160, 158, 162, 166,...</td>\n",
       "    </tr>\n",
       "    <tr>\n",
       "      <td>28708</td>\n",
       "      <td>4</td>\n",
       "      <td>[[77, 140, 182, 193, 190, 185, 181, 180, 185, ...</td>\n",
       "    </tr>\n",
       "  </tbody>\n",
       "</table>\n",
       "<p>56546 rows × 2 columns</p>\n",
       "</div>"
      ],
      "text/plain": [
       "       emotion                                             pixels\n",
       "0            0  [[70, 80, 82, 72, 58, 58, 60, 63, 54, 58, 60, ...\n",
       "1            0  [[151, 150, 147, 155, 148, 133, 111, 140, 170,...\n",
       "2            2  [[231, 212, 156, 164, 174, 138, 161, 173, 182,...\n",
       "3            4  [[24, 32, 36, 30, 32, 23, 19, 20, 30, 41, 21, ...\n",
       "4            6  [[4, 0, 0, 0, 0, 0, 0, 0, 0, 0, 0, 0, 3, 15, 2...\n",
       "...        ...                                                ...\n",
       "28704        2  [[87, 86, 86, 85, 85, 85, 84, 85, 85, 85, 85, ...\n",
       "28705        0  [[147, 112, 83, 98, 81, 114, 110, 88, 80, 99, ...\n",
       "28706        4  [[192, 191, 189, 187, 190, 192, 194, 193, 192,...\n",
       "28707        0  [[122, 132, 138, 146, 155, 160, 158, 162, 166,...\n",
       "28708        4  [[77, 140, 182, 193, 190, 185, 181, 180, 185, ...\n",
       "\n",
       "[56546 rows x 2 columns]"
      ]
     },
     "execution_count": 51,
     "metadata": {},
     "output_type": "execute_result"
    }
   ],
   "source": [
    "df"
   ]
  },
  {
   "cell_type": "code",
   "execution_count": 52,
   "metadata": {},
   "outputs": [
    {
     "data": {
      "text/plain": [
       "Angry        7990\n",
       "Fear         8194\n",
       "Happy       14430\n",
       "Sad          9660\n",
       "Surprise     6342\n",
       "Neutral      9930\n",
       "Name: emotion, dtype: int64"
      ]
     },
     "execution_count": 52,
     "metadata": {},
     "output_type": "execute_result"
    }
   ],
   "source": [
    "df['emotion'].value_counts(sort=False).rename(index=dict(zip(list(range(7)), emotions)))"
   ]
  },
  {
   "cell_type": "code",
   "execution_count": 53,
   "metadata": {},
   "outputs": [
    {
     "data": {
      "text/plain": [
       "<matplotlib.axes._subplots.AxesSubplot at 0x7faab809c250>"
      ]
     },
     "execution_count": 53,
     "metadata": {},
     "output_type": "execute_result"
    },
    {
     "data": {
      "image/png": "[encoded data removed]",
      "text/plain": [
       "<Figure size 432x288 with 1 Axes>"
      ]
     },
     "metadata": {
      "needs_background": "light"
     },
     "output_type": "display_data"
    }
   ],
   "source": [
    "df['emotion'].value_counts(sort=False).rename(index=dict(zip(list(range(7)), emotions))).plot(kind='bar')"
   ]
  },
  {
   "cell_type": "code",
   "execution_count": 54,
   "metadata": {},
   "outputs": [],
   "source": [
    "X_train, X_val, y_train, y_val = train_test_split(df[\"pixels\"], df[\"emotion\"], test_size=0.2, random_state=1)\n",
    "\n",
    "X_train = np.array(list(X_train[:]), dtype=np.float)\n",
    "X_val = np.array(list(X_val[:]), dtype=np.float)\n",
    "\n",
    "y_train = np.array(list(y_train[:]), dtype=np.float)\n",
    "y_val = np.array(list(y_val[:]), dtype=np.float)\n",
    "\n",
    "X_train = X_train.reshape(X_train.shape[0], 48, 48, 1) \n",
    "X_val = X_val.reshape(X_val.shape[0], 48, 48, 1)"
   ]
  },
  {
   "cell_type": "markdown",
   "metadata": {},
   "source": [
    "# 5. Data Examples"
   ]
  },
  {
   "cell_type": "markdown",
   "metadata": {},
   "source": [
    "各表情のサンプルを以下に示します．"
   ]
  },
  {
   "cell_type": "code",
   "execution_count": 55,
   "metadata": {},
   "outputs": [
    {
     "data": {
      "image/png": "[encoded data removed]",
      "text/plain": [
       "<Figure size 1800x864 with 5 Axes>"
      ]
     },
     "metadata": {
      "needs_background": "light"
     },
     "output_type": "display_data"
    }
   ],
   "source": [
    "# Angry\n",
    "plot_examples(label=0)"
   ]
  },
  {
   "cell_type": "code",
   "execution_count": 56,
   "metadata": {},
   "outputs": [],
   "source": [
    "# Disgust\n",
    "# This expression is not a candidate due to insufficient sample size\n",
    "# plot_examples(label=1)"
   ]
  },
  {
   "cell_type": "code",
   "execution_count": 57,
   "metadata": {},
   "outputs": [
    {
     "data": {
      "image/png": "[encoded data removed]",
      "text/plain": [
       "<Figure size 1800x864 with 5 Axes>"
      ]
     },
     "metadata": {
      "needs_background": "light"
     },
     "output_type": "display_data"
    }
   ],
   "source": [
    "# Fear\n",
    "plot_examples(label=2)"
   ]
  },
  {
   "cell_type": "code",
   "execution_count": 58,
   "metadata": {},
   "outputs": [
    {
     "data": {
      "image/png": "[encoded data removed]",
      "text/plain": [
       "<Figure size 1800x864 with 5 Axes>"
      ]
     },
     "metadata": {
      "needs_background": "light"
     },
     "output_type": "display_data"
    }
   ],
   "source": [
    "# Happy\n",
    "plot_examples(label=3)"
   ]
  },
  {
   "cell_type": "code",
   "execution_count": 59,
   "metadata": {},
   "outputs": [
    {
     "data": {
      "image/png": "[encoded data removed]",
      "text/plain": [
       "<Figure size 1800x864 with 5 Axes>"
      ]
     },
     "metadata": {
      "needs_background": "light"
     },
     "output_type": "display_data"
    }
   ],
   "source": [
    "# Sad\n",
    "plot_examples(label=4)"
   ]
  },
  {
   "cell_type": "code",
   "execution_count": 60,
   "metadata": {},
   "outputs": [
    {
     "data": {
      "image/png": "[encoded data removed]",
      "text/plain": [
       "<Figure size 1800x864 with 5 Axes>"
      ]
     },
     "metadata": {
      "needs_background": "light"
     },
     "output_type": "display_data"
    }
   ],
   "source": [
    "# Surprise\n",
    "plot_examples(label=5)"
   ]
  },
  {
   "cell_type": "code",
   "execution_count": 61,
   "metadata": {},
   "outputs": [
    {
     "data": {
      "image/png": "[encoded data removed]",
      "text/plain": [
       "<Figure size 1800x864 with 5 Axes>"
      ]
     },
     "metadata": {
      "needs_background": "light"
     },
     "output_type": "display_data"
    }
   ],
   "source": [
    "# Neutral\n",
    "plot_examples(label=6)"
   ]
  },
  {
   "cell_type": "markdown",
   "metadata": {},
   "source": [
    "# 6. Model"
   ]
  },
  {
   "cell_type": "markdown",
   "metadata": {},
   "source": [
    "以下のCNNモデルを構成し，学習を行ないます．"
   ]
  },
  {
   "cell_type": "code",
   "execution_count": 62,
   "metadata": {},
   "outputs": [],
   "source": [
    "tf.compat.v1.set_random_seed(0)"
   ]
  },
  {
   "cell_type": "code",
   "execution_count": 63,
   "metadata": {},
   "outputs": [],
   "source": [
    "model = keras.models.Sequential([\n",
    "    keras.layers.Conv2D(32, kernel_size=(3, 3), \n",
    "                        activation='relu', input_shape=(48, 48, 1)),\n",
    "    keras.layers.BatchNormalization(axis=1),\n",
    "    keras.layers.MaxPooling2D(pool_size=(2, 2)),\n",
    "    keras.layers.Dropout(0.2),\n",
    "\n",
    "    keras.layers.Conv2D(64, kernel_size=(3, 3), activation='relu'),\n",
    "    keras.layers.BatchNormalization(axis=1),\n",
    "    keras.layers.MaxPooling2D(pool_size=(2, 2)),\n",
    "    keras.layers.Dropout(0.2),\n",
    "\n",
    "    keras.layers.Conv2D(64, kernel_size=(3, 3), activation='relu'),\n",
    "    keras.layers.BatchNormalization(axis=1),\n",
    "    keras.layers.MaxPooling2D(pool_size=(2, 2)),\n",
    "    keras.layers.Dropout(0.2),\n",
    "    \n",
    "    keras.layers.Conv2D(32, kernel_size=(3, 3), activation='relu'),\n",
    "    keras.layers.BatchNormalization(axis=1),\n",
    "    keras.layers.MaxPooling2D(pool_size=(2, 2)),\n",
    "    keras.layers.Dropout(0.2),\n",
    "    \n",
    "    keras.layers.Flatten(),\n",
    "    keras.layers.Dense(512, activation='relu'),\n",
    "    keras.layers.Dropout(0.2),\n",
    "    keras.layers.Dense(512, activation='relu'),\n",
    "    keras.layers.Dropout(0.5),\n",
    "    keras.layers.Dense(7, activation='softmax')\n",
    "])"
   ]
  },
  {
   "cell_type": "code",
   "execution_count": 64,
   "metadata": {},
   "outputs": [],
   "source": [
    "model.compile(optimizer='adam', loss='sparse_categorical_crossentropy', metrics=['accuracy'])"
   ]
  },
  {
   "cell_type": "code",
   "execution_count": 65,
   "metadata": {},
   "outputs": [
    {
     "name": "stdout",
     "output_type": "stream",
     "text": [
      "Model: \"sequential_1\"\n",
      "_________________________________________________________________\n",
      " Layer (type)                Output Shape              Param #   \n",
      "=================================================================\n",
      " conv2d_4 (Conv2D)           (None, 46, 46, 32)        320       \n",
      "                                                                 \n",
      " batch_normalization_4 (Batc  (None, 46, 46, 32)       184       \n",
      " hNormalization)                                                 \n",
      "                                                                 \n",
      " max_pooling2d_4 (MaxPooling  (None, 23, 23, 32)       0         \n",
      " 2D)                                                             \n",
      "                                                                 \n",
      " dropout_6 (Dropout)         (None, 23, 23, 32)        0         \n",
      "                                                                 \n",
      " conv2d_5 (Conv2D)           (None, 21, 21, 64)        18496     \n",
      "                                                                 \n",
      " batch_normalization_5 (Batc  (None, 21, 21, 64)       84        \n",
      " hNormalization)                                                 \n",
      "                                                                 \n",
      " max_pooling2d_5 (MaxPooling  (None, 10, 10, 64)       0         \n",
      " 2D)                                                             \n",
      "                                                                 \n",
      " dropout_7 (Dropout)         (None, 10, 10, 64)        0         \n",
      "                                                                 \n",
      " conv2d_6 (Conv2D)           (None, 8, 8, 64)          36928     \n",
      "                                                                 \n",
      " batch_normalization_6 (Batc  (None, 8, 8, 64)         32        \n",
      " hNormalization)                                                 \n",
      "                                                                 \n",
      " max_pooling2d_6 (MaxPooling  (None, 4, 4, 64)         0         \n",
      " 2D)                                                             \n",
      "                                                                 \n",
      " dropout_8 (Dropout)         (None, 4, 4, 64)          0         \n",
      "                                                                 \n",
      " conv2d_7 (Conv2D)           (None, 2, 2, 32)          18464     \n",
      "                                                                 \n",
      " batch_normalization_7 (Batc  (None, 2, 2, 32)         8         \n",
      " hNormalization)                                                 \n",
      "                                                                 \n",
      " max_pooling2d_7 (MaxPooling  (None, 1, 1, 32)         0         \n",
      " 2D)                                                             \n",
      "                                                                 \n",
      " dropout_9 (Dropout)         (None, 1, 1, 32)          0         \n",
      "                                                                 \n",
      " flatten_1 (Flatten)         (None, 32)                0         \n",
      "                                                                 \n",
      " dense_3 (Dense)             (None, 512)               16896     \n",
      "                                                                 \n",
      " dropout_10 (Dropout)        (None, 512)               0         \n",
      "                                                                 \n",
      " dense_4 (Dense)             (None, 512)               262656    \n",
      "                                                                 \n",
      " dropout_11 (Dropout)        (None, 512)               0         \n",
      "                                                                 \n",
      " dense_5 (Dense)             (None, 7)                 3591      \n",
      "                                                                 \n",
      "=================================================================\n",
      "Total params: 357,659\n",
      "Trainable params: 357,505\n",
      "Non-trainable params: 154\n",
      "_________________________________________________________________\n"
     ]
    }
   ],
   "source": [
    "model.summary()"
   ]
  },
  {
   "cell_type": "code",
   "execution_count": null,
   "metadata": {},
   "outputs": [
    {
     "name": "stdout",
     "output_type": "stream",
     "text": [
      "Epoch 1/500\n",
      "23/23 [==============================] - 104s 5s/step - loss: 1.8145 - accuracy: 0.2225 - val_loss: 4.0753 - val_accuracy: 0.1156\n",
      "Epoch 2/500\n",
      "23/23 [==============================] - 94s 4s/step - loss: 1.7575 - accuracy: 0.2453 - val_loss: 2.5238 - val_accuracy: 0.1154\n",
      "Epoch 3/500\n",
      "23/23 [==============================] - 97s 4s/step - loss: 1.7499 - accuracy: 0.2481 - val_loss: 2.0099 - val_accuracy: 0.1203\n",
      "Epoch 4/500\n",
      "23/23 [==============================] - 97s 4s/step - loss: 1.7428 - accuracy: 0.2532 - val_loss: 1.7847 - val_accuracy: 0.2131\n",
      "Epoch 5/500\n",
      "23/23 [==============================] - 99s 4s/step - loss: 1.7331 - accuracy: 0.2575 - val_loss: 1.7439 - val_accuracy: 0.2524\n",
      "Epoch 6/500\n",
      "23/23 [==============================] - 101s 4s/step - loss: 1.7114 - accuracy: 0.2737 - val_loss: 1.7506 - val_accuracy: 0.2572\n",
      "Epoch 7/500\n",
      "23/23 [==============================] - 101s 4s/step - loss: 1.6499 - accuracy: 0.3193 - val_loss: 1.7235 - val_accuracy: 0.2740\n",
      "Epoch 8/500\n",
      "23/23 [==============================] - 106s 5s/step - loss: 1.5725 - accuracy: 0.3605 - val_loss: 1.6741 - val_accuracy: 0.3329\n",
      "Epoch 9/500\n",
      "23/23 [==============================] - 99s 4s/step - loss: 1.4967 - accuracy: 0.3980 - val_loss: 1.6458 - val_accuracy: 0.3535\n",
      "Epoch 10/500\n",
      "23/23 [==============================] - 97s 4s/step - loss: 1.4385 - accuracy: 0.4257 - val_loss: 1.5452 - val_accuracy: 0.3836\n",
      "Epoch 11/500\n",
      "23/23 [==============================] - 104s 5s/step - loss: 1.3870 - accuracy: 0.4506 - val_loss: 1.4500 - val_accuracy: 0.4217\n",
      "Epoch 12/500\n",
      "23/23 [==============================] - 122s 5s/step - loss: 1.3477 - accuracy: 0.4697 - val_loss: 1.3797 - val_accuracy: 0.4512\n",
      "Epoch 13/500\n",
      "23/23 [==============================] - 128s 6s/step - loss: 1.3088 - accuracy: 0.4844 - val_loss: 1.3363 - val_accuracy: 0.4701\n",
      "Epoch 14/500\n",
      "23/23 [==============================] - 120s 5s/step - loss: 1.2825 - accuracy: 0.4954 - val_loss: 1.2965 - val_accuracy: 0.4898\n",
      "Epoch 15/500\n",
      "23/23 [==============================] - 138s 6s/step - loss: 1.2624 - accuracy: 0.5062 - val_loss: 1.2518 - val_accuracy: 0.5142\n",
      "Epoch 16/500\n",
      "23/23 [==============================] - 101s 4s/step - loss: 1.2401 - accuracy: 0.5166 - val_loss: 1.2605 - val_accuracy: 0.5098\n",
      "Epoch 17/500\n",
      "23/23 [==============================] - 99s 4s/step - loss: 1.2306 - accuracy: 0.5220 - val_loss: 1.1874 - val_accuracy: 0.5393\n",
      "Epoch 18/500\n",
      "23/23 [==============================] - 120s 5s/step - loss: 1.2135 - accuracy: 0.5315 - val_loss: 1.1566 - val_accuracy: 0.5495\n",
      "Epoch 19/500\n",
      "23/23 [==============================] - 122s 5s/step - loss: 1.1973 - accuracy: 0.5343 - val_loss: 1.1389 - val_accuracy: 0.5578\n",
      "Epoch 20/500\n",
      "23/23 [==============================] - 131s 6s/step - loss: 1.1834 - accuracy: 0.5390 - val_loss: 1.1585 - val_accuracy: 0.5470\n",
      "Epoch 21/500\n",
      "23/23 [==============================] - 181s 8s/step - loss: 1.1698 - accuracy: 0.5448 - val_loss: 1.1308 - val_accuracy: 0.5608\n",
      "Epoch 22/500\n",
      "23/23 [==============================] - 132s 6s/step - loss: 1.1636 - accuracy: 0.5485 - val_loss: 1.1023 - val_accuracy: 0.5693\n",
      "Epoch 23/500\n",
      "23/23 [==============================] - 125s 5s/step - loss: 1.1541 - accuracy: 0.5517 - val_loss: 1.1055 - val_accuracy: 0.5691\n",
      "Epoch 24/500\n",
      "23/23 [==============================] - 120s 5s/step - loss: 1.1501 - accuracy: 0.5528 - val_loss: 1.1033 - val_accuracy: 0.5717\n",
      "Epoch 25/500\n",
      "23/23 [==============================] - 138s 6s/step - loss: 1.1278 - accuracy: 0.5627 - val_loss: 1.0855 - val_accuracy: 0.5725\n",
      "Epoch 26/500\n",
      "23/23 [==============================] - 105s 5s/step - loss: 1.1256 - accuracy: 0.5678 - val_loss: 1.0710 - val_accuracy: 0.5821\n",
      "Epoch 27/500\n",
      "23/23 [==============================] - 110s 5s/step - loss: 1.1147 - accuracy: 0.5688 - val_loss: 1.1050 - val_accuracy: 0.5689\n",
      "Epoch 28/500\n",
      "23/23 [==============================] - 107s 5s/step - loss: 1.1135 - accuracy: 0.5683 - val_loss: 1.0702 - val_accuracy: 0.5840\n",
      "Epoch 29/500\n",
      "23/23 [==============================] - 109s 5s/step - loss: 1.1002 - accuracy: 0.5740 - val_loss: 1.0570 - val_accuracy: 0.5842\n",
      "Epoch 30/500\n",
      "23/23 [==============================] - 110s 5s/step - loss: 1.0951 - accuracy: 0.5772 - val_loss: 1.0674 - val_accuracy: 0.5823\n",
      "Epoch 31/500\n",
      "23/23 [==============================] - 107s 5s/step - loss: 1.0870 - accuracy: 0.5815 - val_loss: 1.0455 - val_accuracy: 0.5935\n",
      "Epoch 32/500\n",
      "23/23 [==============================] - 120s 5s/step - loss: 1.0819 - accuracy: 0.5823 - val_loss: 1.0492 - val_accuracy: 0.5922\n",
      "Epoch 33/500\n",
      "23/23 [==============================] - 117s 5s/step - loss: 1.0779 - accuracy: 0.5839 - val_loss: 1.0435 - val_accuracy: 0.5973\n",
      "Epoch 34/500\n",
      " 6/23 [======>.......................] - ETA: 1:21 - loss: 1.0810 - accuracy: 0.5824"
     ]
    }
   ],
   "source": [
    "fitting = model.fit(X_train, y_train, epochs=500, batch_size=2048, validation_data=(X_val,y_val))"
   ]
  },
  {
   "cell_type": "code",
   "execution_count": null,
   "metadata": {},
   "outputs": [],
   "source": [
    "model.save('face_emotion.h5')"
   ]
  },
  {
   "cell_type": "markdown",
   "metadata": {},
   "source": [
    "# 7. Analyze Convergence"
   ]
  },
  {
   "cell_type": "markdown",
   "metadata": {},
   "source": [
    "エポックごとのLossとAccuracyの遷移を表示します．"
   ]
  },
  {
   "cell_type": "code",
   "execution_count": null,
   "metadata": {},
   "outputs": [],
   "source": [
    "fig, ax = plt.subplots(1, 2, figsize=(10, 5))\n",
    "\n",
    "ax[0].plot(fitting.history['loss'])\n",
    "ax[0].plot(fitting.history['val_loss'])\n",
    "ax[1].plot(fitting.history['accuracy'])\n",
    "ax[1].plot(fitting.history['val_accuracy'])\n",
    "\n",
    "ax[0].legend(['Train', 'Test'])\n",
    "ax[0].set_xlabel('Epochs')\n",
    "ax[0].set_ylabel('Loss')\n",
    "ax[1].legend(['Train', 'Test'])\n",
    "ax[1].set_xlabel('Epochs')\n",
    "ax[1].set_ylabel('Accuracy')\n",
    "    \n",
    "plt.tight_layout()"
   ]
  },
  {
   "cell_type": "markdown",
   "metadata": {},
   "source": [
    "# 8. Emotions from My Face?"
   ]
  },
  {
   "cell_type": "markdown",
   "metadata": {},
   "source": [
    "学習したモデルで，実際に自分の顔写真を使って予測してみました．"
   ]
  },
  {
   "cell_type": "code",
   "execution_count": null,
   "metadata": {},
   "outputs": [],
   "source": [
    "def predict(img_path):\n",
    "    gray = Image.open(img_path).convert('L')\n",
    "    img_resize = gray.resize((48, 48))\n",
    "    plt.imshow(img_resize, cmap='gray')\n",
    "    img = np.array(img_resize).reshape(1, 48, 48, 1)\n",
    "\n",
    "    pre = model.predict(img).reshape(7)\n",
    "    arg = np.argsort(pre)[::-1]\n",
    "    for i in range(3):\n",
    "        print('{}.{}: {}'.format(i + 1, emotions[arg[i]], pre[arg[i]]))"
   ]
  },
  {
   "cell_type": "code",
   "execution_count": null,
   "metadata": {},
   "outputs": [],
   "source": [
    "predict('./img/square/test.jpg')"
   ]
  },
  {
   "cell_type": "code",
   "execution_count": null,
   "metadata": {},
   "outputs": [],
   "source": [
    "predict('./img/square/test2.jpg')"
   ]
  },
  {
   "cell_type": "code",
   "execution_count": null,
   "metadata": {},
   "outputs": [],
   "source": [
    "predict('./img/square/test3.jpg')"
   ]
  },
  {
   "cell_type": "code",
   "execution_count": null,
   "metadata": {},
   "outputs": [],
   "source": [
    "gray = Image.open('./img/square/test3.jpg').convert('L')\n",
    "img_resize = gray.resize((48, 48))\n",
    "\n",
    "img = np.array(img_resize)[:, ::-1]\n",
    "\n",
    "plt.imshow(img, cmap='gray')\n",
    "img = img.reshape(1, 48, 48, 1)\n",
    "\n",
    "pre = model.predict(img).reshape(7)\n",
    "arg = np.argsort(pre)[::-1]\n",
    "for i in range(3):\n",
    "    print('{}.{}: {}'.format(i + 1, emotions[arg[i]], pre[arg[i]]))"
   ]
  },
  {
   "cell_type": "code",
   "execution_count": null,
   "metadata": {},
   "outputs": [],
   "source": []
  }
 ],
 "metadata": {
  "kernelspec": {
   "display_name": "Python 3",
   "language": "python",
   "name": "python3"
  },
  "language_info": {
   "codemirror_mode": {
    "name": "ipython",
    "version": 3
   },
   "file_extension": ".py",
   "mimetype": "text/x-python",
   "name": "python",
   "nbconvert_exporter": "python",
   "pygments_lexer": "ipython3",
   "version": "3.7.4"
  }
 },
 "nbformat": 4,
 "nbformat_minor": 4
}
